{
 "cells": [
  {
   "cell_type": "markdown",
   "metadata": {},
   "source": [
    "# Performances analysis"
   ]
  },
  {
   "cell_type": "markdown",
   "metadata": {},
   "source": [
    "Import base stuff and setup pool"
   ]
  },
  {
   "cell_type": "code",
   "execution_count": 1,
   "metadata": {},
   "outputs": [],
   "source": [
    "import numpy as np\n",
    "import pickle\n",
    "import pyarraypool\n",
    "import time\n",
    "import tempfile\n",
    "import pandas as pd\n",
    "from uuid import uuid1\n"
   ]
  },
  {
   "cell_type": "code",
   "execution_count": 2,
   "metadata": {},
   "outputs": [],
   "source": [
    "ctx = pyarraypool.object_pool(\n",
    "    link_path=f\"{tempfile.gettempdir()}/lab_{uuid1()}.seg\",\n",
    ")\n",
    "pool = ctx.__enter__()\n",
    "assert pyarraypool.get_reusable_pool() is not None\n"
   ]
  },
  {
   "cell_type": "markdown",
   "metadata": {},
   "source": [
    "Run perf tests"
   ]
  },
  {
   "cell_type": "code",
   "execution_count": 3,
   "metadata": {},
   "outputs": [
    {
     "data": {
      "text/html": [
       "<div>\n",
       "<style scoped>\n",
       "    .dataframe tbody tr th:only-of-type {\n",
       "        vertical-align: middle;\n",
       "    }\n",
       "\n",
       "    .dataframe tbody tr th {\n",
       "        vertical-align: top;\n",
       "    }\n",
       "\n",
       "    .dataframe thead th {\n",
       "        text-align: right;\n",
       "    }\n",
       "</style>\n",
       "<table border=\"1\" class=\"dataframe\">\n",
       "  <thead>\n",
       "    <tr style=\"text-align: right;\">\n",
       "      <th></th>\n",
       "      <th>Standard array (us)</th>\n",
       "      <th>SHM array (us)</th>\n",
       "    </tr>\n",
       "  </thead>\n",
       "  <tbody>\n",
       "    <tr>\n",
       "      <th>10</th>\n",
       "      <td>39.720887</td>\n",
       "      <td>69.980222</td>\n",
       "    </tr>\n",
       "    <tr>\n",
       "      <th>110</th>\n",
       "      <td>39.161344</td>\n",
       "      <td>67.979491</td>\n",
       "    </tr>\n",
       "    <tr>\n",
       "      <th>210</th>\n",
       "      <td>38.925054</td>\n",
       "      <td>67.727133</td>\n",
       "    </tr>\n",
       "    <tr>\n",
       "      <th>310</th>\n",
       "      <td>39.527363</td>\n",
       "      <td>67.980406</td>\n",
       "    </tr>\n",
       "    <tr>\n",
       "      <th>410</th>\n",
       "      <td>39.697495</td>\n",
       "      <td>67.871550</td>\n",
       "    </tr>\n",
       "    <tr>\n",
       "      <th>...</th>\n",
       "      <td>...</td>\n",
       "      <td>...</td>\n",
       "    </tr>\n",
       "    <tr>\n",
       "      <th>99510</th>\n",
       "      <td>277.919349</td>\n",
       "      <td>74.172898</td>\n",
       "    </tr>\n",
       "    <tr>\n",
       "      <th>99610</th>\n",
       "      <td>282.535649</td>\n",
       "      <td>75.848752</td>\n",
       "    </tr>\n",
       "    <tr>\n",
       "      <th>99710</th>\n",
       "      <td>286.972251</td>\n",
       "      <td>76.355067</td>\n",
       "    </tr>\n",
       "    <tr>\n",
       "      <th>99810</th>\n",
       "      <td>280.116313</td>\n",
       "      <td>75.158989</td>\n",
       "    </tr>\n",
       "    <tr>\n",
       "      <th>99910</th>\n",
       "      <td>279.857521</td>\n",
       "      <td>75.540036</td>\n",
       "    </tr>\n",
       "  </tbody>\n",
       "</table>\n",
       "<p>1000 rows × 2 columns</p>\n",
       "</div>"
      ],
      "text/plain": [
       "       Standard array (us)  SHM array (us)\n",
       "10               39.720887       69.980222\n",
       "110              39.161344       67.979491\n",
       "210              38.925054       67.727133\n",
       "310              39.527363       67.980406\n",
       "410              39.697495       67.871550\n",
       "...                    ...             ...\n",
       "99510           277.919349       74.172898\n",
       "99610           282.535649       75.848752\n",
       "99710           286.972251       76.355067\n",
       "99810           280.116313       75.158989\n",
       "99910           279.857521       75.540036\n",
       "\n",
       "[1000 rows x 2 columns]"
      ]
     },
     "execution_count": 3,
     "metadata": {},
     "output_type": "execute_result"
    }
   ],
   "source": [
    "test_count = 1000\n",
    "# sizes = 10, 50, 100, 500, 1000, 5000, 10_000, 50_000, 100_000, 500_000\n",
    "sizes = list(range(10, 100_000, 100))\n",
    "\n",
    "durations = np.zeros((len(sizes), test_count, 2))\n",
    "\n",
    "for i, size in enumerate(sizes):\n",
    "    # print(\"Benchmarking for size\", size)\n",
    "\n",
    "    arr = np.random.random(size)\n",
    "    shmarr = pyarraypool.make_transferable(arr)\n",
    "\n",
    "    for j in range(test_count):\n",
    "        # Benchmark standard array transfer\n",
    "        t_start = time.perf_counter()\n",
    "        out = pickle.loads(pickle.dumps(arr, protocol=pickle.HIGHEST_PROTOCOL))\n",
    "        t_end = time.perf_counter()\n",
    "        durations[i, j, 0] = t_end - t_start\n",
    "\n",
    "        # Benchmark shm array transfer\n",
    "        t_start = time.perf_counter()\n",
    "        shmout = pickle.loads(pickle.dumps(shmarr, protocol=pickle.HIGHEST_PROTOCOL))\n",
    "        t_end = time.perf_counter()\n",
    "        durations[i, j, 1] = t_end - t_start\n",
    "\n",
    "        assert (out == shmout).all()\n",
    "\n",
    "durations = durations.mean(axis=1) * 1_000_000\n",
    "durations_df = pd.DataFrame(durations, index=sizes, columns=[\"Standard array (us)\", \"SHM array (us)\"])\n",
    "durations_df"
   ]
  },
  {
   "cell_type": "code",
   "execution_count": 4,
   "metadata": {},
   "outputs": [
    {
     "data": {
      "text/plain": [
       "<AxesSubplot:>"
      ]
     },
     "execution_count": 4,
     "metadata": {},
     "output_type": "execute_result"
    },
    {
     "data": {
      "image/png": "[encoded data removed]",
      "text/plain": [
       "<Figure size 432x288 with 1 Axes>"
      ]
     },
     "metadata": {
      "needs_background": "light"
     },
     "output_type": "display_data"
    }
   ],
   "source": [
    "durations_df.plot()"
   ]
  }
 ],
 "metadata": {
  "kernelspec": {
   "display_name": "Python 3.10.5 ('pyenv')",
   "language": "python",
   "name": "python3"
  },
  "language_info": {
   "codemirror_mode": {
    "name": "ipython",
    "version": 3
   },
   "file_extension": ".py",
   "mimetype": "text/x-python",
   "name": "python",
   "nbconvert_exporter": "python",
   "pygments_lexer": "ipython3",
   "version": "3.10.5"
  },
  "orig_nbformat": 4,
  "vscode": {
   "interpreter": {
    "hash": "b83c6e6728d16285c821cdb02227c3bdee609457f3a8753cff7d8858a75271a3"
   }
  }
 },
 "nbformat": 4,
 "nbformat_minor": 2
}
