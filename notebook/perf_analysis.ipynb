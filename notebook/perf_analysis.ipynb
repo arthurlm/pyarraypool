{
 "cells": [
  {
   "cell_type": "markdown",
   "metadata": {},
   "source": [
    "# Performances analysis"
   ]
  },
  {
   "cell_type": "markdown",
   "metadata": {},
   "source": [
    "Import base stuff and setup pool"
   ]
  },
  {
   "cell_type": "code",
   "execution_count": 1,
   "metadata": {},
   "outputs": [],
   "source": [
    "import numpy as np\n",
    "import pickle\n",
    "import pyarraypool\n",
    "import time\n",
    "import tempfile\n",
    "import pandas as pd\n",
    "from uuid import uuid1\n"
   ]
  },
  {
   "cell_type": "code",
   "execution_count": 2,
   "metadata": {},
   "outputs": [],
   "source": [
    "ctx = pyarraypool.object_pool(\n",
    "    link_path=f\"{tempfile.gettempdir()}/lab_{uuid1()}.seg\",\n",
    ")\n",
    "pool = ctx.__enter__()\n",
    "assert pyarraypool.get_reusable_pool() is not None\n"
   ]
  },
  {
   "cell_type": "markdown",
   "metadata": {},
   "source": [
    "Run perf tests"
   ]
  },
  {
   "cell_type": "code",
   "execution_count": 3,
   "metadata": {},
   "outputs": [
    {
     "data": {
      "text/html": [
       "<div>\n",
       "<style scoped>\n",
       "    .dataframe tbody tr th:only-of-type {\n",
       "        vertical-align: middle;\n",
       "    }\n",
       "\n",
       "    .dataframe tbody tr th {\n",
       "        vertical-align: top;\n",
       "    }\n",
       "\n",
       "    .dataframe thead th {\n",
       "        text-align: right;\n",
       "    }\n",
       "</style>\n",
       "<table border=\"1\" class=\"dataframe\">\n",
       "  <thead>\n",
       "    <tr style=\"text-align: right;\">\n",
       "      <th></th>\n",
       "      <th>Standard array (us)</th>\n",
       "      <th>SHM array (us)</th>\n",
       "    </tr>\n",
       "  </thead>\n",
       "  <tbody>\n",
       "    <tr>\n",
       "      <th>10</th>\n",
       "      <td>41.617162</td>\n",
       "      <td>49.969519</td>\n",
       "    </tr>\n",
       "    <tr>\n",
       "      <th>110</th>\n",
       "      <td>36.795385</td>\n",
       "      <td>47.710876</td>\n",
       "    </tr>\n",
       "    <tr>\n",
       "      <th>210</th>\n",
       "      <td>37.173796</td>\n",
       "      <td>47.712126</td>\n",
       "    </tr>\n",
       "    <tr>\n",
       "      <th>310</th>\n",
       "      <td>37.281784</td>\n",
       "      <td>47.119232</td>\n",
       "    </tr>\n",
       "    <tr>\n",
       "      <th>410</th>\n",
       "      <td>39.294212</td>\n",
       "      <td>52.605991</td>\n",
       "    </tr>\n",
       "    <tr>\n",
       "      <th>...</th>\n",
       "      <td>...</td>\n",
       "      <td>...</td>\n",
       "    </tr>\n",
       "    <tr>\n",
       "      <th>99510</th>\n",
       "      <td>270.695398</td>\n",
       "      <td>52.429732</td>\n",
       "    </tr>\n",
       "    <tr>\n",
       "      <th>99610</th>\n",
       "      <td>264.128756</td>\n",
       "      <td>51.814898</td>\n",
       "    </tr>\n",
       "    <tr>\n",
       "      <th>99710</th>\n",
       "      <td>274.809427</td>\n",
       "      <td>51.700931</td>\n",
       "    </tr>\n",
       "    <tr>\n",
       "      <th>99810</th>\n",
       "      <td>272.272662</td>\n",
       "      <td>52.753137</td>\n",
       "    </tr>\n",
       "    <tr>\n",
       "      <th>99910</th>\n",
       "      <td>279.701285</td>\n",
       "      <td>54.280425</td>\n",
       "    </tr>\n",
       "  </tbody>\n",
       "</table>\n",
       "<p>1000 rows × 2 columns</p>\n",
       "</div>"
      ],
      "text/plain": [
       "       Standard array (us)  SHM array (us)\n",
       "10               41.617162       49.969519\n",
       "110              36.795385       47.710876\n",
       "210              37.173796       47.712126\n",
       "310              37.281784       47.119232\n",
       "410              39.294212       52.605991\n",
       "...                    ...             ...\n",
       "99510           270.695398       52.429732\n",
       "99610           264.128756       51.814898\n",
       "99710           274.809427       51.700931\n",
       "99810           272.272662       52.753137\n",
       "99910           279.701285       54.280425\n",
       "\n",
       "[1000 rows x 2 columns]"
      ]
     },
     "execution_count": 3,
     "metadata": {},
     "output_type": "execute_result"
    }
   ],
   "source": [
    "test_count = 1000\n",
    "# sizes = 10, 50, 100, 500, 1000, 5000, 10_000, 50_000, 100_000, 500_000\n",
    "sizes = list(range(10, 100_000, 100))\n",
    "\n",
    "durations = np.zeros((len(sizes), test_count, 2))\n",
    "\n",
    "for i, size in enumerate(sizes):\n",
    "    # print(\"Benchmarking for size\", size)\n",
    "\n",
    "    arr = np.random.random(size)\n",
    "    shmarr = pyarraypool.make_transferable(arr)\n",
    "\n",
    "    for j in range(test_count):\n",
    "        # Benchmark standard array transfer\n",
    "        t_start = time.perf_counter()\n",
    "        out = pickle.loads(pickle.dumps(arr, protocol=pickle.HIGHEST_PROTOCOL))\n",
    "        t_end = time.perf_counter()\n",
    "        durations[i, j, 0] = t_end - t_start\n",
    "\n",
    "        # Benchmark shm array transfer\n",
    "        t_start = time.perf_counter()\n",
    "        shmout = pickle.loads(pickle.dumps(shmarr, protocol=pickle.HIGHEST_PROTOCOL))\n",
    "        t_end = time.perf_counter()\n",
    "        durations[i, j, 1] = t_end - t_start\n",
    "\n",
    "        assert (out == shmout).all()\n",
    "\n",
    "durations = durations.mean(axis=1) * 1_000_000\n",
    "durations_df = pd.DataFrame(durations, index=sizes, columns=[\"Standard array (us)\", \"SHM array (us)\"])\n",
    "durations_df"
   ]
  },
  {
   "cell_type": "code",
   "execution_count": 4,
   "metadata": {},
   "outputs": [
    {
     "data": {
      "text/plain": [
       "<AxesSubplot:>"
      ]
     },
     "execution_count": 4,
     "metadata": {},
     "output_type": "execute_result"
    },
    {
     "data": {
      "image/png": "[encoded data removed]",
      "text/plain": [
       "<Figure size 432x288 with 1 Axes>"
      ]
     },
     "metadata": {
      "needs_background": "light"
     },
     "output_type": "display_data"
    }
   ],
   "source": [
    "durations_df.plot()"
   ]
  }
 ],
 "metadata": {
  "kernelspec": {
   "display_name": "Python 3.10.5 ('pyenv')",
   "language": "python",
   "name": "python3"
  },
  "language_info": {
   "codemirror_mode": {
    "name": "ipython",
    "version": 3
   },
   "file_extension": ".py",
   "mimetype": "text/x-python",
   "name": "python",
   "nbconvert_exporter": "python",
   "pygments_lexer": "ipython3",
   "version": "3.10.6"
  },
  "orig_nbformat": 4,
  "vscode": {
   "interpreter": {
    "hash": "b83c6e6728d16285c821cdb02227c3bdee609457f3a8753cff7d8858a75271a3"
   }
  }
 },
 "nbformat": 4,
 "nbformat_minor": 2
}
