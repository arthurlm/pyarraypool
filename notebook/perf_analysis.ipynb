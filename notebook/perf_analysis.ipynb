{
 "cells": [
  {
   "cell_type": "markdown",
   "metadata": {},
   "source": [
    "# Performances analysis"
   ]
  },
  {
   "cell_type": "markdown",
   "metadata": {},
   "source": [
    "Import base stuff and setup pool"
   ]
  },
  {
   "cell_type": "code",
   "execution_count": 1,
   "metadata": {},
   "outputs": [],
   "source": [
    "import numpy as np\n",
    "import pickle\n",
    "import pyarraypool\n",
    "import time\n",
    "import tempfile\n",
    "import pandas as pd\n",
    "from uuid import uuid1\n"
   ]
  },
  {
   "cell_type": "code",
   "execution_count": 2,
   "metadata": {},
   "outputs": [],
   "source": [
    "pyarraypool.configure_global_pool(\n",
    "    link_path=f\"{tempfile.gettempdir()}/lab_{uuid1()}.seg\",\n",
    ")\n",
    "\n",
    "pyarraypool.start_pool()\n"
   ]
  },
  {
   "cell_type": "markdown",
   "metadata": {},
   "source": [
    "Run perf tests"
   ]
  },
  {
   "cell_type": "code",
   "execution_count": 3,
   "metadata": {},
   "outputs": [
    {
     "data": {
      "text/html": [
       "<div>\n",
       "<style scoped>\n",
       "    .dataframe tbody tr th:only-of-type {\n",
       "        vertical-align: middle;\n",
       "    }\n",
       "\n",
       "    .dataframe tbody tr th {\n",
       "        vertical-align: top;\n",
       "    }\n",
       "\n",
       "    .dataframe thead th {\n",
       "        text-align: right;\n",
       "    }\n",
       "</style>\n",
       "<table border=\"1\" class=\"dataframe\">\n",
       "  <thead>\n",
       "    <tr style=\"text-align: right;\">\n",
       "      <th></th>\n",
       "      <th>Standard array (us)</th>\n",
       "      <th>SHM array (us)</th>\n",
       "    </tr>\n",
       "  </thead>\n",
       "  <tbody>\n",
       "    <tr>\n",
       "      <th>10</th>\n",
       "      <td>15.7291</td>\n",
       "      <td>22.9883</td>\n",
       "    </tr>\n",
       "    <tr>\n",
       "      <th>110</th>\n",
       "      <td>15.3621</td>\n",
       "      <td>20.3033</td>\n",
       "    </tr>\n",
       "    <tr>\n",
       "      <th>210</th>\n",
       "      <td>14.5062</td>\n",
       "      <td>18.8306</td>\n",
       "    </tr>\n",
       "    <tr>\n",
       "      <th>310</th>\n",
       "      <td>14.4715</td>\n",
       "      <td>18.2574</td>\n",
       "    </tr>\n",
       "    <tr>\n",
       "      <th>410</th>\n",
       "      <td>14.7079</td>\n",
       "      <td>18.4848</td>\n",
       "    </tr>\n",
       "    <tr>\n",
       "      <th>...</th>\n",
       "      <td>...</td>\n",
       "      <td>...</td>\n",
       "    </tr>\n",
       "    <tr>\n",
       "      <th>99510</th>\n",
       "      <td>133.6545</td>\n",
       "      <td>25.7451</td>\n",
       "    </tr>\n",
       "    <tr>\n",
       "      <th>99610</th>\n",
       "      <td>128.4725</td>\n",
       "      <td>27.8147</td>\n",
       "    </tr>\n",
       "    <tr>\n",
       "      <th>99710</th>\n",
       "      <td>139.1311</td>\n",
       "      <td>28.0643</td>\n",
       "    </tr>\n",
       "    <tr>\n",
       "      <th>99810</th>\n",
       "      <td>165.0800</td>\n",
       "      <td>50.8805</td>\n",
       "    </tr>\n",
       "    <tr>\n",
       "      <th>99910</th>\n",
       "      <td>171.6921</td>\n",
       "      <td>37.9536</td>\n",
       "    </tr>\n",
       "  </tbody>\n",
       "</table>\n",
       "<p>1000 rows × 2 columns</p>\n",
       "</div>"
      ],
      "text/plain": [
       "       Standard array (us)  SHM array (us)\n",
       "10                 15.7291         22.9883\n",
       "110                15.3621         20.3033\n",
       "210                14.5062         18.8306\n",
       "310                14.4715         18.2574\n",
       "410                14.7079         18.4848\n",
       "...                    ...             ...\n",
       "99510             133.6545         25.7451\n",
       "99610             128.4725         27.8147\n",
       "99710             139.1311         28.0643\n",
       "99810             165.0800         50.8805\n",
       "99910             171.6921         37.9536\n",
       "\n",
       "[1000 rows x 2 columns]"
      ]
     },
     "execution_count": 3,
     "metadata": {},
     "output_type": "execute_result"
    }
   ],
   "source": [
    "test_count = 1000\n",
    "# sizes = 10, 50, 100, 500, 1000, 5000, 10_000, 50_000, 100_000, 500_000\n",
    "sizes = list(range(10, 100_000, 100))\n",
    "\n",
    "durations = np.zeros((len(sizes), test_count, 2))\n",
    "\n",
    "for i, size in enumerate(sizes):\n",
    "    # print(\"Benchmarking for size\", size)\n",
    "\n",
    "    arr = np.random.random(size)\n",
    "    shmarr = pyarraypool.make_transferable(arr, transfer_required=False)\n",
    "\n",
    "    for j in range(test_count):\n",
    "        # Benchmark standard array transfer\n",
    "        t_start = time.perf_counter()\n",
    "        out = pickle.loads(pickle.dumps(arr, protocol=pickle.HIGHEST_PROTOCOL))\n",
    "        t_end = time.perf_counter()\n",
    "        durations[i, j, 0] = t_end - t_start\n",
    "\n",
    "        # Benchmark shm array transfer\n",
    "        t_start = time.perf_counter()\n",
    "        shmout = pickle.loads(pickle.dumps(shmarr, protocol=pickle.HIGHEST_PROTOCOL))\n",
    "        t_end = time.perf_counter()\n",
    "        durations[i, j, 1] = t_end - t_start\n",
    "\n",
    "        assert (out == shmout).all()\n",
    "\n",
    "durations = durations.mean(axis=1) * 1_000_000\n",
    "durations_df = pd.DataFrame(durations, index=sizes, columns=[\"Standard array (us)\", \"SHM array (us)\"])\n",
    "durations_df"
   ]
  },
  {
   "cell_type": "code",
   "execution_count": 4,
   "metadata": {},
   "outputs": [
    {
     "data": {
      "text/plain": [
       "<AxesSubplot:>"
      ]
     },
     "execution_count": 4,
     "metadata": {},
     "output_type": "execute_result"
    },
    {
     "data": {
      "image/png": "[encoded data removed]",
      "text/plain": [
       "<Figure size 432x288 with 1 Axes>"
      ]
     },
     "metadata": {
      "needs_background": "light"
     },
     "output_type": "display_data"
    }
   ],
   "source": [
    "durations_df.plot()"
   ]
  }
 ],
 "metadata": {
  "kernelspec": {
   "display_name": "Python 3.8.10 64-bit ('pyenv': venv)",
   "language": "python",
   "name": "python3"
  },
  "language_info": {
   "codemirror_mode": {
    "name": "ipython",
    "version": 3
   },
   "file_extension": ".py",
   "mimetype": "text/x-python",
   "name": "python",
   "nbconvert_exporter": "python",
   "pygments_lexer": "ipython3",
   "version": "3.10.4"
  },
  "orig_nbformat": 4,
  "vscode": {
   "interpreter": {
    "hash": "d9beb39d52efc2960c106d25b0414ec8310c4a0710e9d7d9243b1827c82d8660"
   }
  }
 },
 "nbformat": 4,
 "nbformat_minor": 2
}
